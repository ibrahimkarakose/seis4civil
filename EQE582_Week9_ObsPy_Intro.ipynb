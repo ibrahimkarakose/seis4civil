{
 "cells": [
  {
   "cell_type": "markdown",
   "metadata": {},
   "source": [
    "<img src=\"images/GTU_LOGO_1200X768_JPG_EN_Small.jpg\" style=\"width:20%\"></img>\n",
    "\n",
    "<div style='background-image: \"intro_pic.png\" ; padding: 0px ; background-size: cover ; border-radius: 5px ; height: 300px'>\n",
    "    <div style=\"float: center ; margin: 50px ; padding: 30px ; background: rgba(255 , 255 , 255 , 0.7) ; width: 50% ; height: 150px\">\n",
    "        <div style=\"position: left ; top: 50% ; transform: translatey(-50%)\">\n",
    "            <div style=\"font-size: x-large ; font-weight: 600 ; color: rgba(0 , 0 ,10 , 0.6) ; line-height: 70%\">Department of Civil Engineering</div>\n",
    "            <div style=\"font-size: xx-large ; font-weight: 900 ; color: rgba(200 , 0 , 0 , 0.8) ; line-height: 200%\">EQE 582_ Introduction to SEISMOLOGY</div>\n",
    "            <div style=\"font-size: large ; padding-top: 10px ; color: rgba(0 , 0 , 0 , 0.7); line-height: 100%\">Python applications for Seismology</div>\n",
    "            <img src=\"images/obspy_logo_full_524x179px.png\" style=\"width:60%\"><img>\n",
    "        </div>\n",
    "    </div>\n",
    "</div>\n",
    "\n",
    "---"
   ]
  },
  {
   "cell_type": "markdown",
   "metadata": {},
   "source": [
    "Purpose of this notebook is to give a quick introduction about ObsPy which is a python framework developed for seismological data processing. With the help of ObsPy, it east to process comman data formats, get data from data centers and also perform seismological signal proessing. Please visit the link below for detailed information. \n",
    "\n",
    "* [Seismo-Live](http://seismo-live.org)\n",
    "\n",
    "And follow the instructions for [INSTALLATION](https://github.com/obspy/obspy/wiki#installation)\n",
    "\n",
    "ObsPy Authors:\n",
    "* Lion Krischer (@krischer)\n",
    "* Tobias Megies (@megies)\n",
    "\n",
    "---"
   ]
  },
  {
   "cell_type": "markdown",
   "metadata": {},
   "source": [
    "## **<font color=darkblue> Waveform Data </font>**\n",
    "\n",
    "Waveforms with time series in seismology called waveform data and most common formats are **MiniSEED** and **SAC**. ObsPy automatically detects the file format.\n",
    "\n",
    "![stream](images/Stream_Trace.svg)\n"
   ]
  },
  {
   "cell_type": "markdown",
   "metadata": {},
   "source": [
    "### Read and Plot **_MSEED_** data"
   ]
  },
  {
   "cell_type": "code",
   "execution_count": null,
   "metadata": {},
   "outputs": [],
   "source": [
    "%matplotlib inline\n",
    "import matplotlib.pyplot as plt\n",
    "\n",
    "import obspy\n",
    "\n",
    "# Read wavform data in MiniSeed format\n",
    "st = obspy.read(\"waveform/20201201192002_ZEDA_H.mseed\")\n",
    "print(st)"
   ]
  },
  {
   "cell_type": "code",
   "execution_count": null,
   "metadata": {},
   "outputs": [],
   "source": [
    "# Fileformat specific information is also stored.\n",
    "print(st[2].stats.mseed)"
   ]
  },
  {
   "cell_type": "code",
   "execution_count": null,
   "metadata": {},
   "outputs": [],
   "source": [
    "st.plot()"
   ]
  },
  {
   "cell_type": "markdown",
   "metadata": {},
   "source": [
    "### Read and Plot **_SAC_** data\n",
    "\n",
    "SAC type of data format is a widely used format and there is SAC Code which is an Seismic Analysis Code using for data processing in SAC format."
   ]
  },
  {
   "cell_type": "code",
   "execution_count": null,
   "metadata": {},
   "outputs": [],
   "source": [
    "st = obspy.read(\"waveform/KO.KUSD..HNE.D.2020.304.115012.SAC\")\n",
    "print(st)\n",
    "st[0].stats.sac.__dict__"
   ]
  },
  {
   "cell_type": "code",
   "execution_count": null,
   "metadata": {},
   "outputs": [],
   "source": [
    "st.plot()"
   ]
  },
  {
   "cell_type": "markdown",
   "metadata": {},
   "source": [
    "---\n",
    "\n",
    "## **<font color=darkgreen> Coordinated Universal Time</font>**\n",
    "\n",
    "**_UTCDateTime_** refers to set up timezone base on universal coordinates. It is necessery to know and used everywhere in ObsPy. Its unit in nanoseconds.\n"
   ]
  },
  {
   "cell_type": "code",
   "execution_count": null,
   "metadata": {},
   "outputs": [],
   "source": [
    "# Current time can be initialized by leaving out any arguments\n",
    "from obspy import UTCDateTime\n",
    "\n",
    "print(UTCDateTime())"
   ]
  },
  {
   "cell_type": "code",
   "execution_count": null,
   "metadata": {},
   "outputs": [],
   "source": [
    "from obspy import UTCDateTime\n",
    "\n",
    "print(UTCDateTime(\"2011-03-11T05:46:23.2\"))        # mostly time strings defined by ISO standard\n",
    "print(UTCDateTime(\"2011-03-11T14:46:23.2+09:00\"))  # non-UTC timezone input\n",
    "print(UTCDateTime(2011, 3, 11, 5, 46, 23, 2))\n",
    "print(UTCDateTime(1299822383.2))"
   ]
  },
  {
   "cell_type": "code",
   "execution_count": null,
   "metadata": {},
   "outputs": [],
   "source": [
    "time = UTCDateTime(\"2011-03-11T05:46:23.200000Z\")\n",
    "print(time.year)\n",
    "print(time.julday)\n",
    "print(time.timestamp)\n",
    "print(time.weekday)\n",
    "# try time.<Tab>"
   ]
  },
  {
   "cell_type": "markdown",
   "metadata": {},
   "source": [
    "---\n",
    "\n",
    "## **<font color=darkyellow> Station Data </font>**\n",
    "\n",
    "It contains instrumental information with geographical and also organizational information.Most common formats are (dataless) SEED, RESP (ASCII based dataless SEED) and Station XML (similar but simpler SEED type). ObsPy can work with all of them.\n",
    "\n",
    "![inv](images/Inventory.svg)\n"
   ]
  },
  {
   "cell_type": "markdown",
   "metadata": {},
   "source": [
    "---\n",
    "\n",
    "## **<font color=orange> Event Data</font>**\n",
    "\n",
    "Event files may contain detailed information about an earthquake or it may a simple text file. The main event file insist the location, time, depth and magnitude of a given earthquake. \n",
    "\n",
    "Datacenters provide different type of Event file formats but for the very common ones, Obspy has function th process them. \n",
    "\n",
    "![events](./images/Event.svg)"
   ]
  },
  {
   "cell_type": "markdown",
   "metadata": {},
   "source": [
    "---\n",
    "# **<font color=purple> Routine Data Processing in Seismology with ObsPy </font>**\n",
    "\n",
    "Lets read all **_mseed_** files in my database"
   ]
  },
  {
   "cell_type": "code",
   "execution_count": null,
   "metadata": {},
   "outputs": [],
   "source": [
    "from obspy import read\n",
    "st = read(\"waveform/*.mseed\", format=\"mseed\")\n",
    "print(st)"
   ]
  },
  {
   "cell_type": "markdown",
   "metadata": {},
   "source": [
    "* read waveform data is returned as a **`Stream`** object, so, no need to worry about file format. Automatic file format detection currently supported."
   ]
  },
  {
   "cell_type": "code",
   "execution_count": null,
   "metadata": {},
   "outputs": [],
   "source": [
    "# no need to specify data format \n",
    "\n",
    "from obspy import read\n",
    "\n",
    "st = read(\"waveform/*\")  # read both SAC and MSEED data from database\n",
    "print(st)"
   ]
  },
  {
   "cell_type": "code",
   "execution_count": null,
   "metadata": {},
   "outputs": [],
   "source": [
    "st1 = read(\"waveform/KO.KUSD*HNN*\")\n",
    "tr1 = st1[0]  # get the first Trace in the Stream\n",
    "print(tr1.stats)"
   ]
  },
  {
   "cell_type": "code",
   "execution_count": null,
   "metadata": {},
   "outputs": [],
   "source": [
    "print(tr1.stats._format, \"|\", tr1.stats.endtime, \"|\", tr1.stats.station)"
   ]
  },
  {
   "cell_type": "code",
   "execution_count": null,
   "metadata": {},
   "outputs": [],
   "source": [
    "tr1.plot()"
   ]
  },
  {
   "cell_type": "code",
   "execution_count": null,
   "metadata": {},
   "outputs": [],
   "source": [
    "tr1.resample(sampling_rate=50.0)\n",
    "print(tr1)"
   ]
  },
  {
   "cell_type": "code",
   "execution_count": null,
   "metadata": {},
   "outputs": [],
   "source": [
    "tr1.trim(tr1.stats.starttime + 80, tr1.stats.starttime + 2 * 60)\n",
    "\n",
    "print(tr1.stats.starttime, \"|\", tr1.stats.endtime)\n",
    "tr1.plot()"
   ]
  },
  {
   "cell_type": "code",
   "execution_count": null,
   "metadata": {},
   "outputs": [],
   "source": [
    "# Some basic processing. Please note that these modify the\n",
    "# existing object.\n",
    "\n",
    "tr1.detrend(\"linear\")\n",
    "tr1.filter(\"bandpass\", freqmin=0.08, freqmax=1.6)\n",
    "\n",
    "tr1.plot()"
   ]
  },
  {
   "cell_type": "code",
   "execution_count": null,
   "metadata": {},
   "outputs": [],
   "source": [
    "tr1.detrend(\"linear\")\n",
    "tr1.taper(max_percentage=0.05, type='cosine')\n",
    "tr1.filter(\"lowpass\", freq=0.1)\n",
    "tr1.plot()"
   ]
  },
  {
   "cell_type": "code",
   "execution_count": null,
   "metadata": {},
   "outputs": [],
   "source": [
    "print(tr1.data.max())\n",
    "print(tr1.data.mean())"
   ]
  },
  {
   "cell_type": "markdown",
   "metadata": {},
   "source": [
    "---\n",
    "# **<font color=magenta> Create synthetic pulse signal</font>**\n"
   ]
  },
  {
   "cell_type": "code",
   "execution_count": null,
   "metadata": {},
   "outputs": [],
   "source": [
    "# we will use numpy to create an array with zeros and will put a pulse in it somewhere\n",
    "import numpy as np\n",
    "from obspy import Trace\n",
    "from obspy import Stream\n",
    "from obspy import UTCDateTime\n",
    "\n",
    "x = np.zeros(500)\n",
    "x[200] = 3.0\n",
    "tr = Trace(data=x)\n",
    "tr.stats.starttime = UTCDateTime(2020, 5, 31, 10, 30, 0)\n",
    "tr.stats.station = \"GTU.AKM.HNZ\"\n",
    "tr.stats.sampling_rate = 50.0\n",
    "\n",
    "print(tr)\n",
    "tr.plot()"
   ]
  },
  {
   "cell_type": "code",
   "execution_count": null,
   "metadata": {},
   "outputs": [],
   "source": [
    "tr.filter(\"lowpass\", freq=1)\n",
    "tr.plot()"
   ]
  },
  {
   "cell_type": "code",
   "execution_count": null,
   "metadata": {},
   "outputs": [],
   "source": [
    "tr.data = tr.data * 50\n",
    "tr.data = tr.data + np.random.randn(len(tr))\n",
    "tr.plot()"
   ]
  },
  {
   "cell_type": "code",
   "execution_count": null,
   "metadata": {},
   "outputs": [],
   "source": [
    "tr.spectrogram(log=True, wlen=50);"
   ]
  },
  {
   "cell_type": "code",
   "execution_count": null,
   "metadata": {},
   "outputs": [],
   "source": [
    "# You can write it again by simply specifing the format.\n",
    "#st.write(\"synthetic.mseed\", format=\"mseed\")\n",
    "#st.write(\"synthetic.sac\", format=\"sac\")\n"
   ]
  },
  {
   "cell_type": "markdown",
   "metadata": {},
   "source": [
    "---"
   ]
  }
 ],
 "metadata": {
  "kernelspec": {
   "display_name": "Python 3",
   "language": "python",
   "name": "python3"
  },
  "language_info": {
   "codemirror_mode": {
    "name": "ipython",
    "version": 3
   },
   "file_extension": ".py",
   "mimetype": "text/x-python",
   "name": "python",
   "nbconvert_exporter": "python",
   "pygments_lexer": "ipython3",
   "version": "3.8.6"
  }
 },
 "nbformat": 4,
 "nbformat_minor": 4
}
